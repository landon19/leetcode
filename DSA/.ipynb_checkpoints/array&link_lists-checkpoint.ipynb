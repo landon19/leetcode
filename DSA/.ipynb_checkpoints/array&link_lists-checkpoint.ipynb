{
 "cells": [
  {
   "cell_type": "markdown",
   "metadata": {},
   "source": [
    "## 陣列array\n",
    "浪費空間，插入時得再次移動\n",
    "適合隨機讀取\n",
    "讀取 Ｏ（1）\n",
    "插入 Ｏ（n）\n",
    "刪除 Ｏ（n）"
   ]
  },
  {
   "cell_type": "markdown",
   "metadata": {},
   "source": [
    "## 鍊結串列\n",
    "要逐一讀取元素\n",
    "適合快速插入或修改元素\n",
    "讀取 Ｏ（n）\n",
    "插入 Ｏ（1）\n",
    "刪除 Ｏ（1）"
   ]
  },
  {
   "cell_type": "code",
   "execution_count": null,
   "metadata": {},
   "outputs": [],
   "source": []
  },
  {
   "cell_type": "markdown",
   "metadata": {},
   "source": [
    "1480. Running Sum of 1d Array"
   ]
  },
  {
   "cell_type": "code",
   "execution_count": 19,
   "metadata": {},
   "outputs": [
    {
     "data": {
      "text/plain": [
       "[1, 3, 6, 10]"
      ]
     },
     "execution_count": 19,
     "metadata": {},
     "output_type": "execute_result"
    }
   ],
   "source": [
    "class Solution(object):\n",
    "    def runningSum(self,nums):\n",
    "        \"\"\"\n",
    "        :type nums: List[int]\n",
    "        :rtype: List[int]\n",
    "        \"\"\"\n",
    "        for i in range(len(nums)-1):\n",
    "            nums[i+1]+=nums[i]\n",
    "        return nums\n",
    "    \n",
    "aa=[1,2,3,4]\n",
    "runningSum(aa)"
   ]
  },
  {
   "cell_type": "code",
   "execution_count": null,
   "metadata": {},
   "outputs": [],
   "source": []
  },
  {
   "cell_type": "markdown",
   "metadata": {},
   "source": [
    "350. Intersection of Two Arrays II"
   ]
  },
  {
   "cell_type": "code",
   "execution_count": 58,
   "metadata": {
    "scrolled": true
   },
   "outputs": [
    {
     "name": "stdout",
     "output_type": "stream",
     "text": [
      "num: 9\n",
      "counts: 1\n",
      "num: 4\n",
      "counts: 1\n"
     ]
    },
    {
     "data": {
      "text/plain": [
       "[9, 4]"
      ]
     },
     "execution_count": 58,
     "metadata": {},
     "output_type": "execute_result"
    }
   ],
   "source": [
    "import collections\n",
    "nums1=[4,9,5]\n",
    "nums2=[9,4,9,8,4]\n",
    "counts = collections.Counter(nums1) #計算出現次數\n",
    "res = []\n",
    "for num in nums2:\n",
    "    if counts[num] > 0:  #如果大於0表示此元素有出現過在nums1裡\n",
    "        print('num:',num)\n",
    "        print('counts:',counts[num])\n",
    "        res.append(num)\n",
    "        counts[num] -= 1 #計算以計算過的次數，有了就減1，才不會重複計算\n",
    "\n",
    "        \n",
    "       \n",
    "res"
   ]
  },
  {
   "cell_type": "code",
   "execution_count": null,
   "metadata": {},
   "outputs": [],
   "source": []
  },
  {
   "cell_type": "raw",
   "metadata": {},
   "source": [
    "283. Move Zeroes"
   ]
  },
  {
   "cell_type": "code",
   "execution_count": 80,
   "metadata": {},
   "outputs": [
    {
     "name": "stdout",
     "output_type": "stream",
     "text": [
      "6\n"
     ]
    },
    {
     "data": {
      "text/plain": [
       "[2, 1, 3, 12, 0, 0]"
      ]
     },
     "execution_count": 80,
     "metadata": {},
     "output_type": "execute_result"
    }
   ],
   "source": [
    "def moveZeroes(nums):\n",
    "        \"\"\"\n",
    "        Do not return anything, modify nums in-place instead.\n",
    "        \"\"\"\n",
    "        zero=0\n",
    "        print(len(nums))\n",
    "        for i in range(len(nums)):\n",
    "       \n",
    "            if nums[i] != 0:\n",
    "\n",
    "                nums[i],nums[zero] = nums[zero],nums[i] #兩數字互換（數字與0元素的index互換）\n",
    "                zero+=1 #計算0元素的index\n",
    "        \n",
    "        return nums\n",
    "aa=[2,1,0,3,0,12]\n",
    "moveZeroes(aa)"
   ]
  },
  {
   "cell_type": "code",
   "execution_count": 269,
   "metadata": {},
   "outputs": [
    {
     "data": {
      "text/plain": [
       "[2, 1, 5, 22, 0, 0]"
      ]
     },
     "execution_count": 269,
     "metadata": {},
     "output_type": "execute_result"
    }
   ],
   "source": [
    "def moveZeroes(nums):\n",
    "    zero=0\n",
    "    for i in range(len(nums)):\n",
    "        if nums[i]!=0:\n",
    "            nums[i],nums[zero]=nums[zero],nums[i]\n",
    "            zero+=1\n",
    "    return nums\n",
    "nums=[2,1,0,5,0,22]\n",
    "moveZeroes(nums)\n"
   ]
  },
  {
   "cell_type": "markdown",
   "metadata": {},
   "source": [
    "268. Missing Number"
   ]
  },
  {
   "cell_type": "code",
   "execution_count": 99,
   "metadata": {},
   "outputs": [
    {
     "data": {
      "text/plain": [
       "1"
      ]
     },
     "execution_count": 99,
     "metadata": {},
     "output_type": "execute_result"
    }
   ],
   "source": [
    "def missingNumber( nums):\n",
    "        \"\"\"\n",
    "        :type nums: List[int]\n",
    "        :rtype: int\n",
    "        \"\"\"\n",
    "        n=len(nums)\n",
    "        return sum(range(len(nums)+1))-sum(nums)\n",
    "#         return n*(n+1)/2-sum(nums)\n",
    "    \n",
    "nums=[0,2,3,4]\n",
    "missingNumber(nums)"
   ]
  },
  {
   "cell_type": "code",
   "execution_count": null,
   "metadata": {},
   "outputs": [],
   "source": []
  },
  {
   "cell_type": "markdown",
   "metadata": {},
   "source": [
    "217. Contains Duplicate"
   ]
  },
  {
   "cell_type": "code",
   "execution_count": 111,
   "metadata": {},
   "outputs": [
    {
     "data": {
      "text/plain": [
       "True"
      ]
     },
     "execution_count": 111,
     "metadata": {},
     "output_type": "execute_result"
    }
   ],
   "source": [
    "def containsDuplicate(nums):\n",
    "        \"\"\"\n",
    "        :type nums: List[int]\n",
    "        :rtype: bool\n",
    "        \"\"\"\n",
    "        count=collections.Counter(nums) #計算所有元素的次數\n",
    "        for i in nums:\n",
    "            if count[i]>=2: #如果有大於兩次\n",
    "                return True\n",
    "      \n",
    "nums=[1,2,2,3]\n",
    "containsDuplicate(nums)"
   ]
  },
  {
   "cell_type": "code",
   "execution_count": 120,
   "metadata": {},
   "outputs": [
    {
     "name": "stdout",
     "output_type": "stream",
     "text": [
      "{1}\n",
      "{1, 2}\n"
     ]
    },
    {
     "data": {
      "text/plain": [
       "True"
      ]
     },
     "execution_count": 120,
     "metadata": {},
     "output_type": "execute_result"
    }
   ],
   "source": [
    "def containsDuplicate(nums):\n",
    "        \"\"\"\n",
    "        :type nums: List[int]\n",
    "        :rtype: bool\n",
    "        \"\"\"\n",
    "        uni=set()\n",
    "        for i in nums:\n",
    "            if i in uni:   #查詢元素有沒有在uni陣列裡\n",
    "                return True\n",
    "            else:\n",
    "                uni.add(i) #加入在uni陣列裡，只會獨立不重複\n",
    "                print(uni)\n",
    "      \n",
    "nums=[1,2,2,3]\n",
    "containsDuplicate(nums)"
   ]
  },
  {
   "cell_type": "code",
   "execution_count": null,
   "metadata": {},
   "outputs": [],
   "source": []
  },
  {
   "cell_type": "markdown",
   "metadata": {},
   "source": [
    "169. Majority Element"
   ]
  },
  {
   "cell_type": "code",
   "execution_count": 124,
   "metadata": {},
   "outputs": [
    {
     "data": {
      "text/plain": [
       "2"
      ]
     },
     "execution_count": 124,
     "metadata": {},
     "output_type": "execute_result"
    }
   ],
   "source": [
    "def majorityElement( nums):\n",
    "        \"\"\"\n",
    "        :type nums: List[int]\n",
    "        :rtype: int\n",
    "        \"\"\"\n",
    "        element,cnt=0,0\n",
    "        for i in nums:\n",
    "            if element == i:      #初始若第一元素為0時，就先以0元素為計算次數\n",
    "                cnt+=1\n",
    "            elif cnt==0:            #當cnt為0時表示改以此元素為計算\n",
    "                element,cnt=i,1\n",
    "            else:              #當遇到不同元數時將cnt-1，當cnt撿到為0時表示遇到更多的元素了\n",
    "                cnt-=1\n",
    "        return element\n",
    "    \n",
    "nums=[1,1,2,2,2,3]\n",
    "majorityElement(nums)"
   ]
  },
  {
   "cell_type": "code",
   "execution_count": 128,
   "metadata": {},
   "outputs": [
    {
     "data": {
      "text/plain": [
       "3"
      ]
     },
     "execution_count": 128,
     "metadata": {},
     "output_type": "execute_result"
    }
   ],
   "source": [
    "def majorityElement(nums):\n",
    "    cnt=collections.Counter(nums)\n",
    "    major=0\n",
    "    \n",
    "    for i in set(nums):\n",
    "        if cnt[i]>cnt[major]:\n",
    "            major=i\n",
    "    return major\n",
    "\n",
    "    \n",
    "nums=[1,1,2,41,3,3,3]\n",
    "majorityElement(nums)"
   ]
  },
  {
   "cell_type": "code",
   "execution_count": null,
   "metadata": {},
   "outputs": [],
   "source": []
  },
  {
   "cell_type": "code",
   "execution_count": null,
   "metadata": {},
   "outputs": [],
   "source": [
    "136. Single Number"
   ]
  },
  {
   "cell_type": "code",
   "execution_count": 148,
   "metadata": {},
   "outputs": [
    {
     "data": {
      "text/plain": [
       "1"
      ]
     },
     "execution_count": 148,
     "metadata": {},
     "output_type": "execute_result"
    }
   ],
   "source": [
    "def singleNumber(nums):\n",
    "        \"\"\"\n",
    "        :type nums: List[int]\n",
    "        :rtype: int\n",
    "        \"\"\"\n",
    "        cnt=collections.Counter(nums)\n",
    "        for i in set(nums):\n",
    "            if cnt[i]==1:\n",
    "                return i\n",
    "num=[2,2,1,5,5,5]\n",
    "singleNumber(num)"
   ]
  },
  {
   "cell_type": "code",
   "execution_count": 150,
   "metadata": {},
   "outputs": [
    {
     "data": {
      "text/plain": [
       "1"
      ]
     },
     "execution_count": 150,
     "metadata": {},
     "output_type": "execute_result"
    }
   ],
   "source": [
    "def singleNumber2(nums):\n",
    "        \"\"\"\n",
    "        :type nums: List[int]\n",
    "        :rtype: int\n",
    "        \"\"\"\n",
    "        single=0\n",
    "        for i in nums:\n",
    "            single^=i  #XOR 兩兩同樣為0\n",
    "        return single\n",
    "    \n",
    "num=[2,2,1,5,5,5,5]\n",
    "singleNumber2(num)"
   ]
  },
  {
   "cell_type": "code",
   "execution_count": null,
   "metadata": {},
   "outputs": [],
   "source": []
  },
  {
   "cell_type": "markdown",
   "metadata": {},
   "source": [
    "121. Best Time to Buy and Sell Stock"
   ]
  },
  {
   "cell_type": "code",
   "execution_count": 154,
   "metadata": {},
   "outputs": [
    {
     "data": {
      "text/plain": [
       "5"
      ]
     },
     "execution_count": 154,
     "metadata": {},
     "output_type": "execute_result"
    }
   ],
   "source": [
    "def maxProfit( prices):\n",
    "        \"\"\"\n",
    "        :type prices: List[int]\n",
    "        :rtype: int\n",
    "        \"\"\"\n",
    "        max_profit,min_price=0,float('inf') #最大數值\n",
    "        for i in prices:\n",
    "            min_price= min(i,min_price)\n",
    "            profit=i-min_price\n",
    "            max_profit=max(profit,max_profit)\n",
    "        return max_profit\n",
    "prices=[7,1,5,3,6,4]\n",
    "maxProfit(prices)"
   ]
  },
  {
   "cell_type": "code",
   "execution_count": 157,
   "metadata": {},
   "outputs": [
    {
     "data": {
      "text/plain": [
       "5"
      ]
     },
     "execution_count": 157,
     "metadata": {},
     "output_type": "execute_result"
    }
   ],
   "source": [
    "def maxProfit( prices):\n",
    "        \"\"\"\n",
    "        :type prices: List[int]\n",
    "        :rtype: int\n",
    "        \"\"\"\n",
    "        left=0\n",
    "        right=1\n",
    "        max_profit=0\n",
    "        while right <len(prices):\n",
    "            if prices[right]>prices[left]:\n",
    "                profit= prices[right]-prices[left]\n",
    "                max_profit=max(max_profit,profit)\n",
    "            else:\n",
    "                left=right\n",
    "            right+=1\n",
    "        return max_profit\n",
    "    \n",
    "prices=[7,1,5,3,6,4]\n",
    "maxProfit(prices)"
   ]
  },
  {
   "cell_type": "code",
   "execution_count": null,
   "metadata": {},
   "outputs": [],
   "source": []
  },
  {
   "cell_type": "markdown",
   "metadata": {},
   "source": [
    "118. Pascal's Triangle"
   ]
  },
  {
   "cell_type": "code",
   "execution_count": 190,
   "metadata": {},
   "outputs": [
    {
     "data": {
      "text/plain": [
       "[[1], [1, 1], [1, 2, 1], [1, 3, 3, 1], [1, 4, 6, 4, 1]]"
      ]
     },
     "execution_count": 190,
     "metadata": {},
     "output_type": "execute_result"
    }
   ],
   "source": [
    "def generate( numRows):\n",
    "        \"\"\"\n",
    "        :type numRows: int\n",
    "        :rtype: List[List[int]]\n",
    "        \"\"\"\n",
    "        pascal = [1]*numRows\n",
    "        for i in range(numRows):\n",
    "            pascal[i]=[1]*(i+1)\n",
    "            for j in range(1,i):\n",
    "                pascal[i][j]=pascal[i-1][j-1]+pascal[i-1][j]\n",
    "        return pascal\n",
    "\n",
    "numRows=5\n",
    "generate(5)\n",
    "            "
   ]
  },
  {
   "cell_type": "code",
   "execution_count": null,
   "metadata": {},
   "outputs": [],
   "source": []
  },
  {
   "cell_type": "markdown",
   "metadata": {},
   "source": [
    "108. Convert Sorted Array to Binary Search Tree"
   ]
  },
  {
   "cell_type": "markdown",
   "metadata": {},
   "source": [
    "## BST 二元搜尋數\n",
    "左邊的節點值比根節點值小\n",
    "右邊的節點值比根節點值大\n",
    "使用二元搜尋法在排序好的陣列下最差情況為O(log n)但插入和刪除較耗時間\n",
    "       陣列        BST\n",
    "搜尋    O(Log n)   O(Log n)\n",
    "插入    O(n)       O(Log n)\n",
    "刪除    O(n)       O(Log n)\n",
    "\n",
    "BST缺點：不能隨機存取（用index索引），需顧慮樹平衡效能才會好"
   ]
  },
  {
   "cell_type": "code",
   "execution_count": 210,
   "metadata": {},
   "outputs": [
    {
     "name": "stdout",
     "output_type": "stream",
     "text": [
      "<__main__.TreeNode object at 0x7fec0c766d90>\n",
      "<__main__.TreeNode object at 0x7fec0c766d90>\n"
     ]
    }
   ],
   "source": [
    "# Definition for a binary tree node.\n",
    "class TreeNode(object):\n",
    "    def __init__(self, val=0, left=None, right=None):\n",
    "        self.val = val\n",
    "        self.left = left\n",
    "        self.right = right\n",
    "class Solution(object):\n",
    "    def sortedArrayToBST(self, nums):\n",
    "        \"\"\"\n",
    "        :type nums: List[int]\n",
    "        :rtype: TreeNode\n",
    "        \"\"\"\n",
    "        if not nums:\n",
    "            return None\n",
    "        mid = int(len(nums)/2)\n",
    "        root = TreeNode(nums[mid])\n",
    "        print(root)\n",
    "        root.left = Solution.sortedArrayToBST(self,nums[:mid])\n",
    "        root.right = Solution.sortedArrayToBST(self,nums[mid+1:])\n",
    "\n",
    "        return root\n",
    "nums=[0]\n",
    "ans=Solution.sortedArrayToBST(object,nums)\n",
    "print(ans)"
   ]
  },
  {
   "cell_type": "code",
   "execution_count": 296,
   "metadata": {
    "scrolled": true
   },
   "outputs": [
    {
     "name": "stdout",
     "output_type": "stream",
     "text": [
      "[5]\n",
      "[1, 2, 3, 4]\n"
     ]
    }
   ],
   "source": [
    "a=[1,2,3,4,5]\n",
    "print(a[-1:]) #前面為遮住的元素 加上負號變成顯示後面元素\n",
    "print(a[:-1]) #後面為顯示的元素 加上負號變成遮住後面元素"
   ]
  },
  {
   "cell_type": "code",
   "execution_count": null,
   "metadata": {},
   "outputs": [],
   "source": []
  },
  {
   "cell_type": "code",
   "execution_count": null,
   "metadata": {},
   "outputs": [],
   "source": [
    "88. Merge Sorted Array"
   ]
  },
  {
   "cell_type": "code",
   "execution_count": 290,
   "metadata": {
    "scrolled": true
   },
   "outputs": [
    {
     "data": {
      "text/plain": [
       "[1, 2, 2, 3, 5, 6]"
      ]
     },
     "execution_count": 290,
     "metadata": {},
     "output_type": "execute_result"
    }
   ],
   "source": [
    "class Solution(object):\n",
    "    def merge( nums1, m, nums2, n):\n",
    "        \"\"\"\n",
    "        :type nums1: List[int]\n",
    "        :type m: int\n",
    "        :type nums2: List[int]\n",
    "        :type n: int\n",
    "        :rtype: None Do not return anything, modify nums1 in-place instead.\n",
    "        \"\"\"\n",
    "        A=m-1\n",
    "        B=n-1\n",
    "        index=m+n-1\n",
    "        \n",
    "        while B>=0:\n",
    "            if A>=0 and nums1[A]>nums2[B]:\n",
    "                nums1[index]=nums1[A]\n",
    "                A-=1\n",
    "            else:\n",
    "                nums1[index]=nums2[B]\n",
    "                B-=1\n",
    "            \n",
    "            index-=1\n",
    "        return nums1\n",
    "        \n",
    "        \n",
    "        \n",
    "        \n",
    "nums1 = [1,2,3,0,0,0]\n",
    "m = 3\n",
    "nums2 = [2,5,6]\n",
    "n = 3       \n",
    "Solution.merge(nums1,m,nums2,n)"
   ]
  },
  {
   "cell_type": "code",
   "execution_count": null,
   "metadata": {},
   "outputs": [],
   "source": []
  },
  {
   "cell_type": "code",
   "execution_count": null,
   "metadata": {},
   "outputs": [],
   "source": []
  },
  {
   "cell_type": "markdown",
   "metadata": {},
   "source": [
    "## append 和extend差異\n"
   ]
  },
  {
   "cell_type": "code",
   "execution_count": 307,
   "metadata": {},
   "outputs": [
    {
     "data": {
      "text/plain": [
       "([1, 2, 3, [4, 5, 6]], [1, 2, 3, 4, 5, 6])"
      ]
     },
     "execution_count": 307,
     "metadata": {},
     "output_type": "execute_result"
    }
   ],
   "source": [
    "a=[1,2,3]\n",
    "b=[4,5,6]\n",
    "a1=[1,2,3]\n",
    "b1=[4,5,6]\n",
    "a.append(b)\n",
    "a1.extend(b1)\n",
    "a,a1"
   ]
  },
  {
   "cell_type": "markdown",
   "metadata": {},
   "source": [
    "66. Plus One"
   ]
  },
  {
   "cell_type": "code",
   "execution_count": 332,
   "metadata": {},
   "outputs": [
    {
     "data": {
      "text/plain": [
       "[1, 3, 0]"
      ]
     },
     "execution_count": 332,
     "metadata": {},
     "output_type": "execute_result"
    }
   ],
   "source": [
    "class Solution(object):\n",
    "    def plusOne(digits):\n",
    "        \"\"\"\n",
    "        :type digits: List[int]\n",
    "        :rtype: List[int]\n",
    "        \"\"\"\n",
    "        if len(digits) == 0:   #若沒有元素為1（也代表進位）\n",
    "            digits[0]=[1]\n",
    "        elif digits[-1]==9:\n",
    "            digits=Solution.plusOne(digits[:-1]) #將移除最後元素的陣列遞迴執行\n",
    "            digits.extend([0])\n",
    "        else:\n",
    "            digits[-1]+=1    #將倒數第二個元素作進位加一\n",
    "        return digits\n",
    "digits=[1,2,9]\n",
    "Solution.plusOne(digits)\n"
   ]
  },
  {
   "cell_type": "code",
   "execution_count": null,
   "metadata": {},
   "outputs": [],
   "source": []
  },
  {
   "cell_type": "code",
   "execution_count": null,
   "metadata": {},
   "outputs": [],
   "source": [
    "26. Remove Duplicates from Sorted Array"
   ]
  },
  {
   "cell_type": "code",
   "execution_count": 336,
   "metadata": {},
   "outputs": [
    {
     "data": {
      "text/plain": [
       "3"
      ]
     },
     "execution_count": 336,
     "metadata": {},
     "output_type": "execute_result"
    }
   ],
   "source": [
    "class Solution(object):\n",
    "    def removeDuplicates( nums):\n",
    "        \"\"\"\n",
    "        :type nums: List[int]\n",
    "        :rtype: int\n",
    "        \"\"\"\n",
    "        x=1 #從第二元素開始比較是否相同\n",
    "        for i in range(len(nums)-1): #最後一個元素不用比較\n",
    "            if nums[i]!=nums[i+1]:\n",
    "                #nums[x]==nums[i+1]\n",
    "                x+=1                #計算獨立元素的次數\n",
    "        return x\n",
    "nums=[1,1,2,2,2,5]\n",
    "ans=Solution.removeDuplicates(nums)\n",
    "ans"
   ]
  },
  {
   "cell_type": "code",
   "execution_count": null,
   "metadata": {},
   "outputs": [],
   "source": []
  },
  {
   "cell_type": "code",
   "execution_count": null,
   "metadata": {},
   "outputs": [],
   "source": [
    "1. Two Sum"
   ]
  },
  {
   "cell_type": "code",
   "execution_count": 340,
   "metadata": {},
   "outputs": [
    {
     "data": {
      "text/plain": [
       "{1: 'a'}"
      ]
     },
     "execution_count": 340,
     "metadata": {},
     "output_type": "execute_result"
    }
   ],
   "source": [
    "d={}\n",
    "d[]='a'\n",
    "d"
   ]
  },
  {
   "cell_type": "code",
   "execution_count": 350,
   "metadata": {},
   "outputs": [
    {
     "name": "stdout",
     "output_type": "stream",
     "text": [
      "@ 7\n",
      "@ 2\n",
      "m 2\n",
      "d {2: 0}\n"
     ]
    },
    {
     "data": {
      "text/plain": [
       "(0, 1)"
      ]
     },
     "execution_count": 350,
     "metadata": {},
     "output_type": "execute_result"
    }
   ],
   "source": [
    "class Solution(object):\n",
    "    def twoSum( nums, target):\n",
    "        \"\"\"\n",
    "        :type nums: List[int]\n",
    "        :type target: int\n",
    "        :rtype: List[int]\n",
    "        \"\"\"\n",
    "        d={} #key(元素) valu(index)\n",
    "        for i,n in enumerate(nums):\n",
    "            \n",
    "            m=target-n\n",
    "            print('@',m)\n",
    "            if m in d:    #是比較dict的key有沒有出現過\n",
    "                print('m',m)\n",
    "                print('d',d)\n",
    "            \n",
    "                return(d[m],i)\n",
    "            else:\n",
    "                d[n]=i\n",
    "\n",
    "            \n",
    "nums = [2,7,11,15]\n",
    "target = 9\n",
    "Solution.twoSum(nums,target)\n"
   ]
  },
  {
   "cell_type": "code",
   "execution_count": null,
   "metadata": {},
   "outputs": [],
   "source": []
  },
  {
   "cell_type": "code",
   "execution_count": null,
   "metadata": {},
   "outputs": [],
   "source": []
  }
 ],
 "metadata": {
  "kernelspec": {
   "display_name": "Python 3",
   "language": "python",
   "name": "python3"
  },
  "language_info": {
   "codemirror_mode": {
    "name": "ipython",
    "version": 3
   },
   "file_extension": ".py",
   "mimetype": "text/x-python",
   "name": "python",
   "nbconvert_exporter": "python",
   "pygments_lexer": "ipython3",
   "version": "3.8.3"
  }
 },
 "nbformat": 4,
 "nbformat_minor": 4
}
