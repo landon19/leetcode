{
 "cells": [
  {
   "cell_type": "code",
   "execution_count": 1,
   "metadata": {},
   "outputs": [],
   "source": []
  },
  {
   "cell_type": "code",
   "execution_count": null,
   "metadata": {},
   "outputs": [],
   "source": []
  },
  {
   "cell_type": "code",
   "execution_count": null,
   "metadata": {},
   "outputs": [],
   "source": [
    "## Bubble Sort (氣泡排序法) O(n²)"
   ]
  },
  {
   "cell_type": "code",
   "execution_count": 14,
   "metadata": {},
   "outputs": [],
   "source": [
    "def bubblesort(data):\n",
    "    datalist=len(data) \n",
    "    for i in range(datalist-1): # 要做交換的次數，最後一筆不用\n",
    "        for j in range(datalist-i-1): \n",
    "            if data[j]>data[j+1]:\n",
    "                data[j],data[j+1]= data[j+1],data[j]\n",
    "    return data\n",
    " "
   ]
  },
  {
   "cell_type": "code",
   "execution_count": 15,
   "metadata": {},
   "outputs": [
    {
     "name": "stdout",
     "output_type": "stream",
     "text": [
      "[23, 34, 66, 67, 78, 89, 100]\n"
     ]
    }
   ],
   "source": [
    "data=[89, 34, 23, 78, 67, 100, 66]\n",
    "print(bubblesort(data))"
   ]
  },
  {
   "cell_type": "code",
   "execution_count": null,
   "metadata": {},
   "outputs": [],
   "source": []
  },
  {
   "cell_type": "code",
   "execution_count": null,
   "metadata": {},
   "outputs": [],
   "source": [
    "## Insertion Sort (插入排序法)   O(n²)"
   ]
  },
  {
   "cell_type": "code",
   "execution_count": 16,
   "metadata": {},
   "outputs": [],
   "source": [
    "def InsertionSort(data):\n",
    "    n = len(data)\n",
    "    for i in range(n-1):\n",
    "        key= data[i+1]\n",
    "        j = i \n",
    "        while j>=0 and key < data[j]:\n",
    "            data[j+1] = data[j]\n",
    "            j -=1\n",
    "        data[j+1]=key\n",
    "    return data\n",
    "    "
   ]
  },
  {
   "cell_type": "code",
   "execution_count": 17,
   "metadata": {
    "scrolled": true
   },
   "outputs": [
    {
     "name": "stdout",
     "output_type": "stream",
     "text": [
      "[23, 34, 66, 67, 78, 89, 100]\n"
     ]
    }
   ],
   "source": [
    "data=[89, 34, 23, 78, 67, 100, 66]\n",
    "print(InsertionSort(data))"
   ]
  },
  {
   "cell_type": "code",
   "execution_count": null,
   "metadata": {},
   "outputs": [],
   "source": []
  },
  {
   "cell_type": "code",
   "execution_count": null,
   "metadata": {},
   "outputs": [],
   "source": [
    "## Selection Sort (選擇排序法 )   O(n²)"
   ]
  },
  {
   "cell_type": "code",
   "execution_count": 22,
   "metadata": {},
   "outputs": [],
   "source": [
    "#使用array pop方法\n",
    "def find_smallest_index(arr):\n",
    "    smallest = arr[0]\n",
    "    smallest_index = 0\n",
    "    for i in range(1,len(arr)):\n",
    "        if arr[i]<smallest:\n",
    "            smallest = arr[i]\n",
    "            smallest_index = i\n",
    "    return smallest_index\n",
    "\n",
    "def selectionsort1(arr):\n",
    "    new_arr=[]\n",
    "    for i in range (len(arr)):\n",
    "        smallest = find_smallest_index(arr)\n",
    "        new_arr.append(arr.pop(smallest))\n",
    "    return new_arr\n",
    "    \n",
    "    "
   ]
  },
  {
   "cell_type": "code",
   "execution_count": 24,
   "metadata": {},
   "outputs": [],
   "source": [
    "# 一般方法\n",
    "def selectionsort2(data):\n",
    "    n = len(data)\n",
    "    for i in range(n-1):\n",
    "        min_idx = i \n",
    "        for j in range(i+1,n):\n",
    "            if data[j]< data[min_idx]:\n",
    "                min_idx = j\n",
    "            if min_idx != i:\n",
    "                data[i],data[min_idx]=data[min_idx],data[i]\n",
    "    return data\n",
    "                "
   ]
  },
  {
   "cell_type": "code",
   "execution_count": 25,
   "metadata": {},
   "outputs": [
    {
     "name": "stdout",
     "output_type": "stream",
     "text": [
      "[23, 34, 66, 67, 78, 89, 100]\n"
     ]
    }
   ],
   "source": [
    "data=[89, 34, 23, 78, 67, 100, 66]\n",
    "print(selectionsort2(data))"
   ]
  },
  {
   "cell_type": "code",
   "execution_count": null,
   "metadata": {},
   "outputs": [],
   "source": []
  },
  {
   "cell_type": "code",
   "execution_count": null,
   "metadata": {},
   "outputs": [],
   "source": [
    "## Quick Sort (快速排序法)  O(nlogn)"
   ]
  },
  {
   "cell_type": "code",
   "execution_count": 38,
   "metadata": {},
   "outputs": [],
   "source": [
    "def quicksort(data):\n",
    "    if len(data)<2:\n",
    "        return data\n",
    "    else:\n",
    "        pivot = data[0]\n",
    "        loss = [i for i in data[1:] if i <= pivot]\n",
    "        great = [i for i in data[1:] if i > pivot]\n",
    "        \n",
    "        return quicksort(loss)+ [pivot] + quicksort(great)"
   ]
  },
  {
   "cell_type": "code",
   "execution_count": 39,
   "metadata": {},
   "outputs": [
    {
     "name": "stdout",
     "output_type": "stream",
     "text": [
      "[23, 34, 66, 67, 78, 89, 100]\n"
     ]
    }
   ],
   "source": [
    "data=[89, 34, 23, 78, 67, 100, 66]\n",
    "print(quicksort(data))"
   ]
  },
  {
   "cell_type": "code",
   "execution_count": null,
   "metadata": {},
   "outputs": [],
   "source": [
    "## Merge Sort (合併排序法)"
   ]
  },
  {
   "cell_type": "code",
   "execution_count": null,
   "metadata": {},
   "outputs": [],
   "source": []
  },
  {
   "cell_type": "code",
   "execution_count": null,
   "metadata": {},
   "outputs": [],
   "source": []
  }
 ],
 "metadata": {
  "kernelspec": {
   "display_name": "Python 3",
   "language": "python",
   "name": "python3"
  },
  "language_info": {
   "codemirror_mode": {
    "name": "ipython",
    "version": 3
   },
   "file_extension": ".py",
   "mimetype": "text/x-python",
   "name": "python",
   "nbconvert_exporter": "python",
   "pygments_lexer": "ipython3",
   "version": "3.8.3"
  }
 },
 "nbformat": 4,
 "nbformat_minor": 4
}
