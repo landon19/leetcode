{
 "cells": [
  {
   "cell_type": "code",
   "execution_count": 1,
   "metadata": {},
   "outputs": [],
   "source": []
  },
  {
   "cell_type": "code",
   "execution_count": null,
   "metadata": {},
   "outputs": [],
   "source": []
  },
  {
   "cell_type": "code",
   "execution_count": null,
   "metadata": {},
   "outputs": [],
   "source": [
    "## Bubble Sort (氣泡排序法) O(n²)"
   ]
  },
  {
   "cell_type": "code",
   "execution_count": 7,
   "metadata": {},
   "outputs": [],
   "source": [
    "def bubblesort(data):\n",
    "    datalist=len(data) \n",
    "    for i in range(datalist-1): # 要做交換的次數，最後一筆不用\n",
    "        for j in range(datalist-i-1): \n",
    "            if data[j]>data[j+1]:\n",
    "                data[j],data[j+1]= data[j+1],data[j]\n",
    "    return data\n",
    " "
   ]
  },
  {
   "cell_type": "code",
   "execution_count": 8,
   "metadata": {},
   "outputs": [
    {
     "name": "stdout",
     "output_type": "stream",
     "text": [
      "[23, 34, 66, 67, 78, 89, 100]\n"
     ]
    }
   ],
   "source": [
    "data=[89, 34, 23, 78, 67, 100, 66]\n",
    "print(bubblesort(data))"
   ]
  },
  {
   "cell_type": "code",
   "execution_count": null,
   "metadata": {},
   "outputs": [],
   "source": [
    "## Insertion Sort (插入排序法)   O(n²)"
   ]
  },
  {
   "cell_type": "code",
   "execution_count": 16,
   "metadata": {},
   "outputs": [],
   "source": [
    "def InsertionSort(data):\n",
    "    n = len(data)\n",
    "    for i in range(n-1):\n",
    "        key= data[i+1]\n",
    "        j = i \n",
    "        while j>=0 and key < data[j]:\n",
    "            data[j+1] = data[j]\n",
    "            j -=1\n",
    "        data[j+1]=key\n",
    "    return data\n",
    "    "
   ]
  },
  {
   "cell_type": "code",
   "execution_count": 17,
   "metadata": {
    "scrolled": false
   },
   "outputs": [
    {
     "name": "stdout",
     "output_type": "stream",
     "text": [
      "[23, 34, 66, 67, 78, 89, 100]\n"
     ]
    }
   ],
   "source": [
    "data=[89, 34, 23, 78, 67, 100, 66]\n",
    "print(InsertionSort(data))"
   ]
  },
  {
   "cell_type": "code",
   "execution_count": null,
   "metadata": {},
   "outputs": [],
   "source": [
    "## Selection Sort (選擇排序法 )   O(n²)"
   ]
  },
  {
   "cell_type": "code",
   "execution_count": 11,
   "metadata": {},
   "outputs": [
    {
     "name": "stdout",
     "output_type": "stream",
     "text": [
      "[23, 34, 66, 67, 78, 89, 100]\n"
     ]
    }
   ],
   "source": [
    "#使用array pop方法\n",
    "def find_smallest_index(data):\n",
    "    smallest = data[0]\n",
    "    smallest_index = 0\n",
    "    for i in range(1,len(data)):\n",
    "        if data[i]<smallest:\n",
    "            smallest = data[i]\n",
    "            smallest_index = i\n",
    "    return smallest_index\n",
    "\n",
    "def selectionsort1(data):\n",
    "    new_data=[]\n",
    "    for i in range (len(data)):\n",
    "        smallest = find_smallest_index(data)\n",
    "        new_data.append(data.pop(smallest))\n",
    "    return new_data\n",
    "    \n",
    "data=[89, 34, 23, 78, 67, 100, 66]\n",
    "print(selectionsort1(data))   "
   ]
  },
  {
   "cell_type": "code",
   "execution_count": 10,
   "metadata": {},
   "outputs": [
    {
     "name": "stdout",
     "output_type": "stream",
     "text": [
      "[23, 34, 66, 67, 78, 89, 100]\n"
     ]
    }
   ],
   "source": [
    "def sele(data):\n",
    "    datalist=len(data)\n",
    "    small=data[0]\n",
    "    small_idx=0\n",
    "    for i in range(1,datalist):\n",
    "        if small>data[i]:\n",
    "            small=data[i]\n",
    "            small_idx=i\n",
    "    return small_idx\n",
    "\n",
    "\n",
    "def selesort(data):\n",
    "    result=[]\n",
    "    for i in range(len(data)):\n",
    "\n",
    "        result.append(data.pop(sele(data)))\n",
    "    return result\n",
    "     \n",
    "            \n",
    "\n",
    "data=[89, 34, 23, 78, 67, 100, 66]\n",
    "print(selesort(data))\n",
    "    "
   ]
  },
  {
   "cell_type": "code",
   "execution_count": null,
   "metadata": {},
   "outputs": [],
   "source": []
  },
  {
   "cell_type": "code",
   "execution_count": 24,
   "metadata": {},
   "outputs": [],
   "source": [
    "# 一般方法\n",
    "def selectionsort2(data):\n",
    "    n = len(data)\n",
    "    for i in range(n-1):\n",
    "        min_idx = i \n",
    "        for j in range(i+1,n):\n",
    "            if data[j]< data[min_idx]:\n",
    "                min_idx = j\n",
    "            if min_idx != i:\n",
    "                data[i],data[min_idx]=data[min_idx],data[i]\n",
    "    return data\n",
    "                "
   ]
  },
  {
   "cell_type": "code",
   "execution_count": 113,
   "metadata": {},
   "outputs": [
    {
     "name": "stdout",
     "output_type": "stream",
     "text": [
      "[23, 34, 66, 67, 78, 89, 100]\n"
     ]
    }
   ],
   "source": [
    "data=[89, 34, 23, 78, 67, 100, 66]\n",
    "print(selectionsort1(data))"
   ]
  },
  {
   "cell_type": "code",
   "execution_count": null,
   "metadata": {},
   "outputs": [],
   "source": []
  },
  {
   "cell_type": "code",
   "execution_count": null,
   "metadata": {},
   "outputs": [],
   "source": [
    "## Quick Sort (快速排序法)  O(nlogn)"
   ]
  },
  {
   "cell_type": "code",
   "execution_count": 66,
   "metadata": {},
   "outputs": [],
   "source": [
    "def quicksort(data):\n",
    "    if len(data)<2:\n",
    "        return data\n",
    "    else:\n",
    "        pivot = data[0]\n",
    "        loss = [i for i in data[1:] if i <= pivot]\n",
    "        great = [i for i in data[1:] if i > pivot]\n",
    "        \n",
    "        return quicksort(loss)+ [pivot] + quicksort(great)"
   ]
  },
  {
   "cell_type": "code",
   "execution_count": 67,
   "metadata": {
    "scrolled": false
   },
   "outputs": [
    {
     "name": "stdout",
     "output_type": "stream",
     "text": [
      "[23, 34, 66, 67, 78, 89, 100]\n"
     ]
    }
   ],
   "source": [
    "data=[89, 34, 23, 78, 67, 100, 66]\n",
    "print(quicksort(data))"
   ]
  },
  {
   "cell_type": "code",
   "execution_count": 2,
   "metadata": {},
   "outputs": [
    {
     "name": "stdout",
     "output_type": "stream",
     "text": [
      "[23, 34, 66, 67, 78, 89, 100]\n"
     ]
    }
   ],
   "source": [
    "def quick(data):\n",
    "    if len(data)<2:\n",
    "        return data\n",
    "    \n",
    "    pivot=data[0]\n",
    "    less= [i for i in data[1:] if i <= pivot]\n",
    "    large = [i for i in data[1:] if i > pivot]\n",
    "    return quick(less)+[pivot]+quick(large)\n",
    "\n",
    "data=[89, 34, 23, 78, 67, 100, 66]\n",
    "print(quick(data))"
   ]
  },
  {
   "cell_type": "code",
   "execution_count": null,
   "metadata": {},
   "outputs": [],
   "source": [
    "## Merge Sort (合併排序法)"
   ]
  },
  {
   "cell_type": "code",
   "execution_count": 101,
   "metadata": {},
   "outputs": [],
   "source": [
    "def merge(left,right):\n",
    "    result=[]\n",
    "\n",
    "    while len(left) and len(right):\n",
    "        if left[0]< right[0]:\n",
    "            result.append(left.pop(0))\n",
    "    \n",
    "        else:\n",
    "            result.append(right.pop(0))\n",
    "   \n",
    "    result = result+left if len(left) else result+right\n",
    "\n",
    "    return result\n",
    "\n",
    "def mergesort(data):\n",
    "    if len(data)<2:\n",
    "        return data\n",
    "    mid = len(data)//2\n",
    "    arrleft = data[:mid]\n",
    "    arrright = data[mid:]\n",
    "  \n",
    "    \n",
    "    return merge(mergesort(arrleft),mergesort(arrright))\n",
    "    "
   ]
  },
  {
   "cell_type": "code",
   "execution_count": 102,
   "metadata": {},
   "outputs": [
    {
     "name": "stdout",
     "output_type": "stream",
     "text": [
      "left [89]\n",
      "right [34]\n",
      "result [34, 89]\n",
      "left [78]\n",
      "right [23]\n",
      "result [23, 78]\n",
      "left [34, 89]\n",
      "right [23, 78]\n",
      "result [23, 34, 78, 89]\n",
      "[23, 34, 78, 89]\n"
     ]
    }
   ],
   "source": [
    "data=[89, 34, 78,23] #, 67, 100, 66\n",
    "print(mergesort(data))"
   ]
  },
  {
   "cell_type": "code",
   "execution_count": 2,
   "metadata": {},
   "outputs": [
    {
     "data": {
      "text/plain": [
       "array([13.  , -3.  ,  8.88])"
      ]
     },
     "execution_count": 2,
     "metadata": {},
     "output_type": "execute_result"
    }
   ],
   "source": [
    "import numpy as np\n",
    "f_ar = np.array([13,-3,8.88])\n",
    "f_ar"
   ]
  },
  {
   "cell_type": "code",
   "execution_count": null,
   "metadata": {},
   "outputs": [],
   "source": []
  },
  {
   "cell_type": "code",
   "execution_count": null,
   "metadata": {},
   "outputs": [],
   "source": []
  }
 ],
 "metadata": {
  "kernelspec": {
   "display_name": "Python 3",
   "language": "python",
   "name": "python3"
  },
  "language_info": {
   "codemirror_mode": {
    "name": "ipython",
    "version": 3
   },
   "file_extension": ".py",
   "mimetype": "text/x-python",
   "name": "python",
   "nbconvert_exporter": "python",
   "pygments_lexer": "ipython3",
   "version": "3.8.3"
  }
 },
 "nbformat": 4,
 "nbformat_minor": 4
}
